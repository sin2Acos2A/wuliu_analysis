


import os
import pandas as pd
import numpy as np
import matplotlib.pyplot as plt
plt.rcParams['font.sans-serif']='SimHei'## 设置中文显示


data = pd.read_csv('data_wuliu.csv',encoding='gbk')
data.info()





# 删除重复值,保留第一条数据
data.drop_duplicates(keep='first',inplace=True)


data.info()





# 删除缺失值(na,删除带有na的整行数据,按照行删除，how=any是默认值)
data.dropna(axis=0,how='any',inplace=True)
data.info()





# c删除对分析无意义的列订单行
data.drop(columns='订单行',inplace=True,axis=1)
data.info()


# 更新索引
data.reset_index(drop=True, inplace=True)
data.info()


data





def data_deal(money):
    if(money.find('万元')!= -1):
        new_money = float(money[:money.find('万元')].replace(',',''))*10000 #取出数字删除逗号转换为float类型*10000
    else:
        new_money = float(money[:money.find('元')].replace(',','')) #取出数字删除逗号转换为float类型
    return new_money

data['销售金额'] = data['销售金额'].map(data_deal)
data


### 异常值处理


data.describe()





# 1、销售金额==0采用删除办法因为数据量较小
data = data[data['销售金额'] != 0]
data.describe()





# 从销售时间中提取出月份
data['销售时间'] = pd.to_datetime(data['销售时间']) # 把销售时间转换为时间数据类型
# 新增一列存储月份
data['月份'] = data['销售时间'].map(lambda x: x.month)
data





# 去掉首尾空格
data['货品交货状况'] = data['货品交货状况'].str.strip()
data_month = data.groupby(['月份','货品交货状况']).size().unstack() # unstack() 将月份设为行索引货物交货情况按时交货和晚交货设为列索引
data_month['按时交货货率'] = data_month['按时交货']/(data_month['按时交货']+data_month['晚交货'])
data_month









data_sal = data.groupby(['销售区域','货品交货状况']).size().unstack() # unstack() 将月份设为行索引货物交货情况按时交货和晚交货设为列索引
data_sal['按时交货货率'] = data_sal['按时交货']/(data_sal['按时交货']+data_sal['晚交货'])
data_sal
# 西北地区存在突出的延时交货问题急需解决





data_goods = data.groupby(['货品','货品交货状况']).size().unstack() # unstack() 将月份设为行索引货物交货情况按时交货和晚交货设为列索引
data_goods['按时交货货率'] = data_goods['按时交货']/(data_goods['按时交货']+data_goods['晚交货'])
data_goods.sort_values(by='按时交货货率',ascending=False)
#货品4存在突出的延时交货问题急需解决，货品2的问题也需要注意。





data_goods_sal = data.groupby(['货品','销售区域','货品交货状况']).size().unstack(fill_value=0) # unstack() 将月份设为行索引货物交货情况按时交货和晚交货设为列索引
data_goods_sal['按时交货货率'] = data_goods_sal['按时交货']/(data_goods_sal['按时交货']+data_goods_sal['晚交货'])
data_goods_sal.sort_values(by='按时交货货率',ascending=False)
# 销售区域：西北地区延时交货问题,主要是货品4晚交货导致
# 货品：最差的货品2送往马来西亚的晚送货问题突出





data1 = data.groupby(['月份','货品'])['数量'].sum().unstack(fill_value=0) # unstack() 将月份设为行索引货物交货情况按时交货和晚交货设为列索引
data1.plot(kind='line') # 货品2在10月和12月销量猛增原因猜测有二1、公司加大营销力度，2、开发了新的市场





data1 = data.groupby(['销售区域','货品'])['数量'].sum().unstack(fill_value=0)
data1
# 从销售区域看每种货品的销售区域为1-3个货品1有三个销售区域，货品2有2个销售区域其他货品销售区域都是一个





data1 = data.groupby(['月份','销售区域','货品'])['数量'].sum().unstack(fill_value=0)
data1['货品2']
#货品2在10，12月份销量猛增，原因主要发生在原有销售区域(华东
#同样，分析出在7，8，9，11月份销售数量还有很大提升空间，可以适当加大营销力度





data['货品用户反馈'] = data['货品用户反馈'].str.strip() #去除首尾空格
data1 = data.groupby(['货品','销售区域'])['货品用户反馈'].value_counts().unstack(fill_value=0)
data1['拒货率'] = round(data1['拒货']/data1.sum(axis=1),2)
data1['合格率'] = round(data1['质量合格']/data1.sum(axis=1),2)
data1['返修率'] = round(data1['返修']/data1.sum(axis=1),2)


data1.sort_values(['合格率','返修率','拒货率'],ascending=False)


#货品3.6.5合格率均较高，返修率比较低，说明质量还可以
#货品1.2.4合格率较低，返修率较高，质量存在一定的问题，需要改善
#货品2在马拉西亚的把货率最高，同时，在货品2在马拉西亚的按时交货率也非常低。猜测:马来西亚入对送货的时效性要求较高,如果达不到，则往往考虑拒货。
#考虑到货品2主要在华东地区销售量大，可以考虑增大在华东的投资，适当较小马来西亚的投入。



